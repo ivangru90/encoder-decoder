{
 "cells": [
  {
   "cell_type": "code",
   "execution_count": null,
   "id": "4bc588c0-ff3e-4729-8166-85d592a72fe2",
   "metadata": {},
   "outputs": [],
   "source": [
    "import nltk\n",
    "from nltk.tokenize import RegexpTokenizer, sent_tokenize, word_tokenize\n",
    "from nltk.stem import WordNetLemmatizer\n",
    "\n",
    "import torch\n",
    "import torch.nn as nn\n",
    "import torch.nn.functional as F\n",
    "import torch.optim as optim\n",
    "from torchsummary import summary\n",
    "from torch.autograd import Variable\n",
    "from torch.utils.data import Dataset, DataLoader\n",
    "\n",
    "from torch.utils.tensorboard import SummaryWriter\n",
    "\n",
    "from sklearn.decomposition import PCA\n",
    "import numpy as np\n",
    "import plotly.graph_objs as go\n",
    "from datetime import datetime"
   ]
  },
  {
   "cell_type": "code",
   "execution_count": null,
   "id": "9842b54f-754a-4655-a552-7da74b4e7cee",
   "metadata": {},
   "outputs": [],
   "source": [
    "writer = SummaryWriter('runs/encoderdecoder_model_log_'+datetime.now().strftime(\"%d-%m-%Y-%H-%M-%S\"))"
   ]
  },
  {
   "cell_type": "code",
   "execution_count": null,
   "id": "14f926cc-33a0-46f0-a4b6-eef32754d333",
   "metadata": {},
   "outputs": [],
   "source": [
    "nltk.download('punkt')"
   ]
  },
  {
   "cell_type": "code",
   "execution_count": null,
   "id": "6e2f2ca2-7998-4be5-9d7f-7e97c9b29bb3",
   "metadata": {},
   "outputs": [],
   "source": [
    "nltk.download('wordnet')"
   ]
  },
  {
   "cell_type": "code",
   "execution_count": null,
   "id": "f5d9835f-c8ad-43c7-82c3-3a355a9c202e",
   "metadata": {},
   "outputs": [],
   "source": [
    "wordnet_lemmatizer = WordNetLemmatizer()"
   ]
  },
  {
   "cell_type": "code",
   "execution_count": null,
   "id": "18a593f7-d4d3-4168-aaa9-1b4c0ba5153b",
   "metadata": {},
   "outputs": [],
   "source": [
    "# hyperparameters\n",
    "EMBEDDING_DIM = 300"
   ]
  },
  {
   "cell_type": "code",
   "execution_count": null,
   "id": "3fd84686-6c68-4a18-a02a-e7e594baeace",
   "metadata": {},
   "outputs": [],
   "source": [
    "# create vocabular\n",
    "with open('text.txt','r') as f:\n",
    "    text = f.read().lower()\n",
    "    \n",
    "    sentences = sent_tokenize(text)\n",
    "    \n",
    "    vocabulary = set()\n",
    "    for sentence in sentences:\n",
    "        words = nltk.word_tokenize(sentence)\n",
    "        for word in words:\n",
    "            if word.isalpha():\n",
    "                vocabulary.add(wordnet_lemmatizer.lemmatize(word))"
   ]
  },
  {
   "cell_type": "code",
   "execution_count": null,
   "id": "dfedbcde-f006-4345-bcd8-87e6e1ee77ba",
   "metadata": {},
   "outputs": [],
   "source": [
    "print(sentences[:3])"
   ]
  },
  {
   "cell_type": "code",
   "execution_count": null,
   "id": "cc992db2-9a33-4adc-9d16-5f38a540331d",
   "metadata": {},
   "outputs": [],
   "source": [
    "print(list(vocabulary)[:3])"
   ]
  },
  {
   "cell_type": "code",
   "execution_count": null,
   "id": "88f23890-f8ee-48c2-a3b0-766ab0dd1bee",
   "metadata": {},
   "outputs": [],
   "source": [
    "word_to_ix = {word: i for i, word in enumerate(vocabulary)}"
   ]
  },
  {
   "cell_type": "code",
   "execution_count": null,
   "id": "f40b418d-b96e-452c-b1bc-aaeb31586011",
   "metadata": {},
   "outputs": [],
   "source": [
    "def process_words(words):\n",
    "    words_processed = []\n",
    "    for word in words:\n",
    "        if word.isalpha():\n",
    "            words_processed.append(wordnet_lemmatizer.lemmatize(word))\n",
    "    return words_processed"
   ]
  },
  {
   "cell_type": "code",
   "execution_count": null,
   "id": "0ab50553-246b-4ede-97fb-c190a6de0e19",
   "metadata": {},
   "outputs": [],
   "source": [
    "# create dataset for guess next word based on 5 previous words\n",
    "number_of_previous_words = 5\n",
    "dataset = []\n",
    "for sentence in sentences:\n",
    "    words = nltk.word_tokenize(sentence)\n",
    "    words_processed = process_words(words)\n",
    "    for idx,word in enumerate(words_processed):\n",
    "        if idx+number_of_previous_words+1<len(words_processed):\n",
    "            pretext = words_processed[idx:idx+number_of_previous_words]\n",
    "            target = words_processed[idx+number_of_previous_words]\n",
    "            dataset.append((pretext, target))\n",
    "            examples = []"
   ]
  },
  {
   "cell_type": "code",
   "execution_count": null,
   "id": "9a054018-c094-45c1-80ee-0171739ddfd3",
   "metadata": {},
   "outputs": [],
   "source": [
    "print(dataset[:3])"
   ]
  },
  {
   "cell_type": "code",
   "execution_count": null,
   "id": "8f801f73-e466-4df1-adb3-45f361b975da",
   "metadata": {},
   "outputs": [],
   "source": [
    "class MyDataset(Dataset):\n",
    "    def __init__(self, data):\n",
    "        self.data = data\n",
    "        self.length = len(data)\n",
    "        \n",
    "    def __len__(self):\n",
    "        return self.length\n",
    "    \n",
    "    def __getitem__(self, index):\n",
    "        input_words = self.data[index][0]\n",
    "        input_vectors = [word_to_ix[w] for w in input_words]\n",
    "        target = word_to_ix[self.data[index][1]]\n",
    "        \n",
    "        input_tensor = torch.tensor(input_vectors, dtype=torch.int64)\n",
    "        target_tensor = torch.tensor(target, dtype=torch.int64)\n",
    "        return (input_tensor, target_tensor)"
   ]
  },
  {
   "cell_type": "code",
   "execution_count": null,
   "id": "da970340-5dc6-42b6-8708-29b79529c275",
   "metadata": {},
   "outputs": [],
   "source": [
    "class Encoder(nn.Module):\n",
    "\n",
    "    def __init__(self, vocab_size, embedding_dim, num_layers1, num_layers2, num_layers3, hidden_size1, hidden_size2, hidden_size3, dropout):\n",
    "        super(Encoder, self).__init__()\n",
    "        self.num_layers1 = num_layers1\n",
    "        self.num_layers2 = num_layers2\n",
    "        self.num_layers3 = num_layers3\n",
    "        self.hidden_size1 = hidden_size1\n",
    "        self.hidden_size2 = hidden_size2\n",
    "        self.hidden_size3 = hidden_size3\n",
    "        self.dropout = dropout\n",
    "        \n",
    "        self.embeddings = nn.Embedding(vocab_size, embedding_dim)\n",
    "        self.lstm1 = nn.LSTM(input_size=embedding_dim, num_layers=self.num_layers1, hidden_size=self.hidden_size1, dropout=self.dropout)\n",
    "        self.lstm2 = nn.LSTM(input_size=self.hidden_size1, num_layers=self.num_layers2, hidden_size=self.hidden_size2, dropout=self.dropout)\n",
    "        self.lstm3 = nn.LSTM(input_size=self.hidden_size2, num_layers=self.num_layers3, hidden_size=self.hidden_size3, dropout=self.dropout)\n",
    "\n",
    "    def forward(self, inputs):\n",
    "        inputs = inputs.view(-1,inputs.shape[0])\n",
    "        embeds = self.embeddings(inputs)\n",
    "        out, (hidden, cell) = self.lstm1(embeds)\n",
    "        out, (hidden, cell) = self.lstm2(hidden)\n",
    "        out, (hidden, cell) = self.lstm3(hidden)\n",
    "        return hidden, cell"
   ]
  },
  {
   "cell_type": "code",
   "execution_count": null,
   "id": "ccac7bc7-358b-4aa1-b8ec-0227f414132e",
   "metadata": {},
   "outputs": [],
   "source": [
    "class Decoder(nn.Module):\n",
    "\n",
    "    def __init__(self, vocab_size, embedding_dim, num_layers1, num_layers2, hidden_size1, hidden_size2, dropout):\n",
    "        super(Decoder, self).__init__()\n",
    "        self.num_layers1 = num_layers1\n",
    "        self.num_layers2 = num_layers2\n",
    "        self.hidden_size1 = hidden_size1\n",
    "        self.hidden_size2 = hidden_size2\n",
    "        self.dropout = dropout\n",
    "        \n",
    "        self.embeddings = nn.Embedding(vocab_size, embedding_dim)\n",
    "        self.lstm1 = nn.LSTM(input_size=embedding_dim, num_layers=self.num_layers1, hidden_size=self.hidden_size1, dropout=self.dropout)\n",
    "        self.lstm2 = nn.LSTM(input_size=self.hidden_size1, num_layers=self.num_layers2, hidden_size=self.hidden_size2, dropout=self.dropout)\n",
    "        self.linear = nn.Linear(self.hidden_size2, vocab_size) # output size is actually vocabular size\n",
    "\n",
    "    def forward(self, inputs, encoder_hidden_state, encoder_cell_state):\n",
    "        inputs = inputs.view(1,inputs.shape[0])\n",
    "        embeds = self.embeddings(inputs)\n",
    "        out, (hidden, cell) = self.lstm1(embeds, (encoder_hidden_state, encoder_cell_state))\n",
    "        out, (hidden, cell) = self.lstm2(hidden)\n",
    "        out = self.linear(out)\n",
    "        log_probs = F.log_softmax(out, dim=1)\n",
    "        return log_probs[0]"
   ]
  },
  {
   "cell_type": "code",
   "execution_count": null,
   "id": "931a88c4-1e6f-48c7-9add-13d67ede7142",
   "metadata": {},
   "outputs": [],
   "source": [
    "class EncoderDecoder(nn.Module):\n",
    "\n",
    "    def __init__(self, encoder, decoder):\n",
    "        super(EncoderDecoder, self).__init__()\n",
    "        self.encoder = encoder\n",
    "        self.decoder = decoder\n",
    "\n",
    "    def forward(self, inputs):\n",
    "        \n",
    "        input_words = inputs[0]\n",
    "        target_words = inputs[1]\n",
    "        \n",
    "        encoder_hidden, encoder_cell = self.encoder(input_words)\n",
    "        decoder_out = self.decoder(target_words, encoder_hidden, encoder_cell)\n",
    "        return decoder_out"
   ]
  },
  {
   "cell_type": "code",
   "execution_count": null,
   "id": "a7df9a03-03d9-4341-aaaa-de82477aba7a",
   "metadata": {},
   "outputs": [],
   "source": [
    "encoder = Encoder(len(vocabulary), EMBEDDING_DIM, 1, 2, 1, 1024, 512, 256, 0.2)\n",
    "print(encoder)"
   ]
  },
  {
   "cell_type": "code",
   "execution_count": null,
   "id": "6a3e0fe9-6019-4e63-8139-bbe0b648e351",
   "metadata": {},
   "outputs": [],
   "source": [
    "decoder = Decoder(len(vocabulary), EMBEDDING_DIM, 1, 2, 256, 512, 0.2)\n",
    "print(decoder)"
   ]
  },
  {
   "cell_type": "code",
   "execution_count": null,
   "id": "2f4aa128-d8b8-48e4-bc29-3d4065f20b67",
   "metadata": {},
   "outputs": [],
   "source": [
    "encoder_decoder = EncoderDecoder(encoder, decoder)\n",
    "print(encoder_decoder)"
   ]
  },
  {
   "cell_type": "code",
   "execution_count": null,
   "id": "ab904000-f27e-4018-9498-e4a882c80e40",
   "metadata": {},
   "outputs": [],
   "source": [
    "# hyperparameters\n",
    "losses = []\n",
    "loss_function = nn.NLLLoss()\n",
    "optimizer = optim.SGD(encoder_decoder.parameters(), lr=0.001)"
   ]
  },
  {
   "cell_type": "code",
   "execution_count": null,
   "id": "b9f1f31a-2a69-4fad-89a8-8fae9bf750fc",
   "metadata": {},
   "outputs": [],
   "source": [
    "# prepare data\n",
    "batch_size = 4\n",
    "train_data = MyDataset(dataset)\n",
    "train_dataloader = DataLoader(train_data, batch_size=batch_size, shuffle=True)"
   ]
  },
  {
   "cell_type": "code",
   "execution_count": null,
   "id": "9420eb34-68ce-40de-a327-7aa910807874",
   "metadata": {},
   "outputs": [],
   "source": [
    "# model training\n",
    "running_loss = 0.0\n",
    "for epoch in range(1000):\n",
    "    total_loss = 0\n",
    "    for i, data in enumerate(train_dataloader,0):  \n",
    "        input_tensor, target_tensor = data\n",
    "        encoder_decoder.zero_grad()\n",
    "\n",
    "        log_probs = encoder_decoder((input_tensor,target_tensor))\n",
    "        loss = loss_function(log_probs, target_tensor)\n",
    "\n",
    "        loss.backward()\n",
    "        optimizer.step()\n",
    "\n",
    "        total_loss += loss.item()\n",
    "        running_loss += loss.item()\n",
    "        if i % 100 == 99:    \n",
    "\n",
    "            # ...log the running loss\n",
    "            writer.add_scalar('training loss',\n",
    "                            running_loss / 100,\n",
    "                            epoch * len(train_dataloader) + i)\n",
    "            running_loss = 0.0\n",
    "    print('Epoch: ', str(epoch+1), '/1000 ', ', Loss: ', str(total_loss))"
   ]
  },
  {
   "cell_type": "code",
   "execution_count": null,
   "id": "b743c5d6-5600-4f61-a441-81e009609f75",
   "metadata": {},
   "outputs": [],
   "source": [
    "torch.save(encoder_decoder.state_dict(), 'encoderdecoder_model.pth')"
   ]
  },
  {
   "cell_type": "code",
   "execution_count": null,
   "id": "bbd0852a-e604-4f22-abad-c80d44bfeb1e",
   "metadata": {},
   "outputs": [],
   "source": []
  },
  {
   "cell_type": "code",
   "execution_count": null,
   "id": "1620fc25-9054-4727-a139-fbdc919cd1f3",
   "metadata": {},
   "outputs": [],
   "source": []
  }
 ],
 "metadata": {
  "kernelspec": {
   "display_name": "Python 3 (ipykernel)",
   "language": "python",
   "name": "python3"
  },
  "language_info": {
   "codemirror_mode": {
    "name": "ipython",
    "version": 3
   },
   "file_extension": ".py",
   "mimetype": "text/x-python",
   "name": "python",
   "nbconvert_exporter": "python",
   "pygments_lexer": "ipython3",
   "version": "3.9.7"
  }
 },
 "nbformat": 4,
 "nbformat_minor": 5
}
